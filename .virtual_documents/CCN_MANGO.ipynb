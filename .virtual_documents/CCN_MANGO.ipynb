





pip install tensorflow matplotlib


!pip install tensorflow-cpu


pip install opencv-python


!pip list





import os
import numpy as np
import cv2
from matplotlib import pyplot as plt
import tensorflow as tf
from tensorflow.keras.models import Sequential
from tensorflow.keras.layers import Conv2D, MaxPooling2D, Dense, Flatten, Dropout
from tensorflow.keras.metrics import Precision, Recall, BinaryAccuracy
from tensorflow.keras.models import load_model
from tensorflow.keras.losses import SparseCategoricalCrossentropy








dataDir = 'MangoLeafBD Dataset'


class_names =["Anthracnose - 0", "Bacterial Canker - 1", "Cutting Weevil - 2", "Die Back - 3", "Gall Midge - 4", "Healthy - 5", "Powdery Mildew - 6", "Sooty Mould - 7"]





data = tf.keras.utils.image_dataset_from_directory(dataDir)


data_iterator = data.as_numpy_iterator()


batch = data_iterator.next()


batch[0].shape





fig, ax = plt.subplots(5, 5, figsize=(14, 14))

for idy in range(0,5):
  #print(idy)
  for idx, img in enumerate(batch[0][(idy*5):(idy*5+5)]):
    #print ("idx = ", idx, "idy = ", idy)
    ax[idy, idx].imshow(img.astype(int))
    #print(batch[1][idx+(idy*5)])
    ax[idy, idx].title.set_text(class_names[batch[1][idx+(idy*5)]])
    ax[idy, idx].axis('off')
    






data = data.map(lambda x,y: (x/255, y))


batchS = data.as_numpy_iterator().next()


fig, ax = plt.subplots(5, 5, figsize=(14, 14))

for idy in range(0,5):
    for idx, img in enumerate(batchS[0][(idy*5):(idy*5+5)]):
    ax[idy, idx].imshow(img)
    ax[idy, idx].title.set_text(class_names[batchS[1][idx+(idy*5)]])
    ax[idy, idx].axis('off')
    





train_size = 100
valid_size = 24
test_size = 1


train_size #88
#valid_size #25
#test_size  #12
#len(data)  #125





train = data.take(train_size)
valid = data.skip(train_size).take(valid_size)
test = data.skip(train_size+valid_size).take(test_size)


len(train)








model = Sequential()


model.add(Conv2D(16, (3,3), 1, activation='relu', input_shape=(256,256,3)))
model.add(MaxPooling2D())
model.add(Conv2D(32, (3,3), 1, activation='relu'))
model.add(MaxPooling2D())
model.add(Conv2D(16, (3,3), 1, activation='relu'))
model.add(MaxPooling2D())
model.add(Flatten())
model.add(Dense(256, activation='relu'))
model.add(Dense(8, activation='softmax'))





logdir='logs'


tensorboard_callback = tf.keras.callbacks.TensorBoard(log_dir=logdir)


model.compile(optimizer='adam',
              loss=SparseCategoricalCrossentropy(from_logits=True),
              metrics=['accuracy'])
model.summary()





history = model.fit(train, 
                    epochs=15, verbose=1,
                    validation_data = valid,
                    callbacks = [tensorboard_callback],
                   )





fig = plt.figure()
plt.plot(history.history['loss'], color='teal', label='loss')
plt.plot(history.history['val_loss'], color='orange', label='valid_loss')
fig.suptitle('Loss', fontsize=20)
plt.legend(loc="upper left")
plt.show()





fig = plt.figure()
plt.plot(history.history['accuracy'], color='teal', label='accuracy')
plt.plot(history.history['val_accuracy'], color='orange', label='val_accuracy')
fig.suptitle('Accuracy', fontsize=20)
plt.legend(loc="upper left")
plt.show()





score = model.evaluate(test, verbose = 0)
print("CNN Error: %.2f%%" % (100-score[1]*100))
print("CNN Score: %.2f%%" % (score[1]*100))








import random
w = random.choice(os.listdir(dataDir)) 
m = str(dataDir + '/'+ w)
n =random.choice(os.listdir(m))

img=cv2.imread(str(m+"/"+n))





from numpy import exp
def softmax(vector):
    e = exp(vector)
    return e / e.sum()





#img = cv2.imread('MangoLeafBD Dataset/Bacterial Canker/IMG_20211106_120844 (Custom).jpg')


img = cv2.cvtColor(img, cv2.COLOR_BGR2RGB)
plt.imshow(img)
plt.show()

resize = tf.image.resize(img, (256,256))
plt.imshow(resize.numpy().astype(int))
plt.show()

yhat = model.predict(np.expand_dims(resize/255, 0))

score = softmax(yhat[0])
print(np.max(score))


print(
    "This image most likely belongs to {} with a {:.2f} percent confidence.".format(class_names[np.argmax(score)], 100 * np.max(score)))
# Dla losowego obrazu
print('while the correct answer was {}'.format(w))





model.save('saved_model/mangoCNNmodel')


new_model=tf.keras.models.load_model('saved_model/mangoCNNworking')


new_model.summary()
